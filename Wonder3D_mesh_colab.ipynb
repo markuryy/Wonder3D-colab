{
  "cells": [
    {
      "cell_type": "markdown",
      "metadata": {
        "id": "view-in-github"
      },
      "source": [
        "[![Open In Colab](https://colab.research.google.com/assets/colab-badge.svg)](https://colab.research.google.com/github/camenduru/Wonder3D-colab/blob/main/Wonder3D_mesh_colab.ipynb)"
      ]
    },
    {
      "cell_type": "code",
      "execution_count": null,
      "metadata": {
        "id": "VjYy0F2gZIPR"
      },
      "outputs": [],
      "source": [
        "%cd /content\n",
        "!git clone -b dev https://github.com/camenduru/Wonder3D\n",
        "%cd /content/Wonder3D\n",
        "\n",
        "!apt -y install -qq aria2\n",
        "!aria2c --console-log-level=error -c -x 16 -s 16 -k 1M https://huggingface.co/camenduru/Wonder3D/resolve/main/random_states_0.pkl -d /content/Wonder3D/ckpts -o random_states_0.pkl\n",
        "!aria2c --console-log-level=error -c -x 16 -s 16 -k 1M https://huggingface.co/camenduru/Wonder3D/resolve/main/scaler.pt -d /content/Wonder3D/ckpts -o scaler.pt\n",
        "!aria2c --console-log-level=error -c -x 16 -s 16 -k 1M https://huggingface.co/camenduru/Wonder3D/resolve/main/scheduler.bin -d /content/Wonder3D/ckpts -o scheduler.bin\n",
        "!aria2c --console-log-level=error -c -x 16 -s 16 -k 1M https://huggingface.co/camenduru/Wonder3D/resolve/main/unet/diffusion_pytorch_model.bin -d /content/Wonder3D/ckpts/unet -o diffusion_pytorch_model.bin\n",
        "!aria2c --console-log-level=error -c -x 16 -s 16 -k 1M https://huggingface.co/camenduru/Wonder3D/raw/main/unet/config.json -d /content/Wonder3D/ckpts/unet -o config.json\n",
        "!aria2c --console-log-level=error -c -x 16 -s 16 -k 1M https://huggingface.co/camenduru/segment_anything/resolve/main/sam_vit_h_4b8939.pth -d /content/Wonder3D/sam_pt -o sam_vit_h_4b8939.pth\n",
        "\n",
        "!pip install -q fire diffusers==0.19.3 transformers bitsandbytes accelerate gradio rembg segment_anything\n",
        "!pip install -q einops omegaconf pytorch-lightning==1.9.5 torch_efficient_distloss nerfacc==0.3.3 PyMCubes trimesh\n",
        "!pip install -q https://download.pytorch.org/whl/cu121/xformers-0.0.22.post7-cp310-cp310-manylinux2014_x86_64.whl\n",
        "!pip install -q https://github.com/camenduru/wheels/releases/download/colab/tinycudann-1.7-cp310-cp310-linux_x86_64.whl\n",
        "!git clone https://huggingface.co/camenduru/torch_extensions_0_3_3_colab /root/.cache/torch_extensions"
      ]
    },
    {
      "cell_type": "code",
      "source": [
        "from google.colab import files\n",
        "from PIL import Image\n",
        "import os\n",
        "\n",
        "# Step 1: Upload the Image\n",
        "print(\"Please upload a PNG file.\")\n",
        "%cd '/content/Wonder3D/example_images/'\n",
        "uploaded = files.upload()\n",
        "\n",
        "# Check if the uploaded file is a PNG\n",
        "uploaded_filename = next(iter(uploaded))\n",
        "if not uploaded_filename.lower().endswith('.png'):\n",
        "    print(\"The uploaded file is not a PNG. Please upload a PNG file.\")\n",
        "else:\n",
        "    # Display the uploaded image\n",
        "    input_path = f'/content/Wonder3D/example_images/{uploaded_filename}'\n",
        "    display(Image.open(input_path))\n",
        "\n",
        "    # Step 2: Update Line 11 of the Configuration File\n",
        "    config_file_path = '/content/Wonder3D/configs/mvdiffusion-joint-ortho-6views.yaml'\n",
        "\n",
        "    with open(config_file_path, 'r') as file:\n",
        "        lines = file.readlines()\n",
        "\n",
        "    # Update line 11 with the new file name\n",
        "    lines[10] = f\"  filepaths: ['{uploaded_filename}']  # the test image names. leave it empty, test all images in the folder\\n\"\n",
        "\n",
        "    with open(config_file_path, 'w') as file:\n",
        "        file.writelines(lines)\n",
        "\n",
        "    print(\"Configuration file updated successfully.\")"
      ],
      "metadata": {
        "id": "PCQbf-UToV60"
      },
      "execution_count": null,
      "outputs": []
    },
    {
      "cell_type": "code",
      "execution_count": null,
      "metadata": {
        "id": "P0jANzNsoPVR"
      },
      "outputs": [],
      "source": [
        "%cd /content/Wonder3D\n",
        "!accelerate launch --config_file 1gpu.yaml test_mvdiffusion_seq.py --config /content/Wonder3D/configs/mvdiffusion-joint-ortho-6views.yaml"
      ]
    },
    {
      "cell_type": "code",
      "execution_count": null,
      "metadata": {
        "id": "KFJyRgd7oPVR"
      },
      "outputs": [],
      "source": [
        "%cd /content/Wonder3D/instant-nsr-pl\n",
        "base_name = os.path.splitext(uploaded_filename)[0]\n",
        "!python launch.py --config configs/neuralangelo-ortho-wmask.yaml --gpu 0 --train dataset.root_dir=/content/Wonder3D/outputs/cropsize-192-cfg3.0 dataset.scene={base_name}"
      ]
    },
    {
      "cell_type": "code",
      "source": [
        "import os\n",
        "import glob\n",
        "from moviepy.editor import VideoFileClip, vfx\n",
        "from google.colab import files\n",
        "from IPython.display import Video\n",
        "\n",
        "# Assuming 'uploaded_filename' is defined in a previous cell\n",
        "base_name = os.path.splitext(uploaded_filename)[0]\n",
        "\n",
        "# Base directories\n",
        "normal_maps_dir = f'/content/Wonder3D/outputs/cropsize-192-cfg3.0/{base_name}/'\n",
        "mesh_output_base_dir = f'/content/Wonder3D/instant-nsr-pl/exp/mesh-ortho-{base_name}/'\n",
        "\n",
        "# Step 1: Download OBJ File\n",
        "try:\n",
        "    mesh_output_folders = next(os.walk(mesh_output_base_dir))[1]\n",
        "    mesh_output_folder = os.path.join(mesh_output_base_dir, mesh_output_folders[0], 'save')\n",
        "    obj_file = next(glob.iglob(f'{mesh_output_folder}/*.obj'), None)\n",
        "    if obj_file:\n",
        "        files.download(obj_file)\n",
        "    else:\n",
        "        print(\"No OBJ file found in the output folder.\")\n",
        "except Exception as e:\n",
        "    print(f\"Error while locating the OBJ file: {e}\")\n",
        "\n",
        "# Step 2: Display and Slow Down MP4 Video\n",
        "try:\n",
        "    video_file = next(glob.iglob(f'{mesh_output_folder}/*.mp4'), None)\n",
        "    if video_file:\n",
        "        clip = VideoFileClip(video_file)\n",
        "        slowed_clip = clip.fx(vfx.speedx, 0.025)  # Slows down the video\n",
        "        slowed_video_path = video_file.replace('.mp4', '-slowed.mp4')\n",
        "        slowed_clip.write_videofile(slowed_video_path)\n",
        "\n",
        "        print(\"\\nDisplaying Slowed Down Video:\")\n",
        "        display(Video(slowed_video_path, embed=True))\n",
        "    else:\n",
        "        print(\"No MP4 video file found in the output folder.\")\n",
        "except Exception as e:\n",
        "    print(f\"Error while processing the video file: {e}\")"
      ],
      "metadata": {
        "id": "E50fwi68onrX"
      },
      "execution_count": null,
      "outputs": []
    }
  ],
  "metadata": {
    "accelerator": "GPU",
    "colab": {
      "gpuType": "T4",
      "provenance": []
    },
    "kernelspec": {
      "display_name": "Python 3",
      "name": "python3"
    },
    "language_info": {
      "name": "python"
    }
  },
  "nbformat": 4,
  "nbformat_minor": 0
}